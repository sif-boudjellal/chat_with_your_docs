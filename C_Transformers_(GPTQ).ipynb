{
  "nbformat": 4,
  "nbformat_minor": 0,
  "metadata": {
    "colab": {
      "private_outputs": true,
      "provenance": [],
      "gpuType": "T4",
      "collapsed_sections": [
        "nhKRx0RNeOvu",
        "4HwKRsrfeokq"
      ]
    },
    "kernelspec": {
      "name": "python3",
      "display_name": "Python 3"
    },
    "language_info": {
      "name": "python"
    },
    "accelerator": "GPU"
  },
  "cells": [
    {
      "cell_type": "markdown",
      "source": [],
      "metadata": {
        "id": "XHxNnNc8j77a"
      }
    },
    {
      "cell_type": "markdown",
      "source": [
        "#### Install Package"
      ],
      "metadata": {
        "id": "nhKRx0RNeOvu"
      }
    },
    {
      "cell_type": "code",
      "execution_count": null,
      "metadata": {
        "id": "8Hu74s0OdmQ3"
      },
      "outputs": [],
      "source": [
        "!pip install ctransformers ctransformers[gptq] ctransformers[cuda]"
      ]
    },
    {
      "cell_type": "markdown",
      "source": [
        "#### Load Model"
      ],
      "metadata": {
        "id": "d-jpwEUReVSo"
      }
    },
    {
      "cell_type": "code",
      "source": [
        "from ctransformers import AutoModelForCausalLM\n",
        "\n",
        "llm = AutoModelForCausalLM.from_pretrained(\"TheBloke/Llama-2-7B-GPTQ\")"
      ],
      "metadata": {
        "id": "dU_8RrFueeYG"
      },
      "execution_count": null,
      "outputs": []
    },
    {
      "cell_type": "markdown",
      "source": [
        "**If model name or path doesn't contain the word gptq then specify model_type=\"gptq\".**\n",
        "\n",
        "`llm = AutoModelForCausalLM.from_pretrained(\"TheBloke/Llama-2-7B\",model_type=\"gptq\")`"
      ],
      "metadata": {
        "id": "VA4D22x-h1KZ"
      }
    },
    {
      "cell_type": "markdown",
      "source": [
        "**To run some of the model layers on GPU, set the `gpu_layers` parameter:**\n",
        "\n",
        "`llm = AutoModelForCausalLM.from_pretrained(\"TheBloke/Llama-2-7B-GPTQ\", gpu_layers=50)`\n"
      ],
      "metadata": {
        "id": "QYn6hM0ojDTf"
      }
    },
    {
      "cell_type": "markdown",
      "source": [
        "#### Generate Text"
      ],
      "metadata": {
        "id": "4HwKRsrfeokq"
      }
    },
    {
      "cell_type": "code",
      "source": [
        "llm(\"AI is going to\")"
      ],
      "metadata": {
        "id": "SPxxmNb1eptT"
      },
      "execution_count": null,
      "outputs": []
    }
  ]
}